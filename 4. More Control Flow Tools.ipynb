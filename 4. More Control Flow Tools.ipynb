{
 "cells": [
  {
   "cell_type": "code",
   "execution_count": 1,
   "metadata": {},
   "outputs": [],
   "source": [
    "#if elif else\n",
    "#else optional"
   ]
  },
  {
   "cell_type": "code",
   "execution_count": 2,
   "metadata": {},
   "outputs": [],
   "source": [
    "#for\n",
    "#iterates over items of any sequence ##string"
   ]
  },
  {
   "cell_type": "code",
   "execution_count": 3,
   "metadata": {},
   "outputs": [
    {
     "name": "stdout",
     "output_type": "stream",
     "text": [
      "['Taylor', 'Swift', 'Taylor', 'Lover']\n"
     ]
    }
   ],
   "source": [
    "#modify a sequence\n",
    "#use slice\n",
    "#避免在循环中使用一个随时改变的变量\n",
    "words = ['Taylor', 'Swift', 'Lover']\n",
    "for w in words[:]:\n",
    "    if len(w) > 5:\n",
    "        words.insert(-1,w)\n",
    "print(words)"
   ]
  },
  {
   "cell_type": "code",
   "execution_count": 5,
   "metadata": {},
   "outputs": [
    {
     "name": "stdout",
     "output_type": "stream",
     "text": [
      "['Taylor', 'Swift', 'Taylor', 'Lover', 'Taylor', 'Taylor']\n"
     ]
    }
   ],
   "source": [
    "for w in words[:]:\n",
    "    if len(w) > 5:\n",
    "        words.append(w)\n",
    "print(words)"
   ]
  },
  {
   "cell_type": "code",
   "execution_count": 6,
   "metadata": {},
   "outputs": [
    {
     "name": "stdout",
     "output_type": "stream",
     "text": [
      "0 Taylor\n",
      "1 Swift\n",
      "2 Taylor\n",
      "3 Lover\n",
      "4 Taylor\n",
      "5 Taylor\n"
     ]
    }
   ],
   "source": [
    "#iterate over indices of a sequence range+len\n",
    "for i in range(len(words)):\n",
    "    print(i,words[i])"
   ]
  },
  {
   "cell_type": "code",
   "execution_count": 7,
   "metadata": {},
   "outputs": [
    {
     "data": {
      "text/plain": [
       "<enumerate at 0x1104bc5a0>"
      ]
     },
     "execution_count": 7,
     "metadata": {},
     "output_type": "execute_result"
    }
   ],
   "source": [
    "enumerate(words)"
   ]
  },
  {
   "cell_type": "code",
   "execution_count": 8,
   "metadata": {},
   "outputs": [
    {
     "data": {
      "text/plain": [
       "[(0, 'Taylor'),\n",
       " (1, 'Swift'),\n",
       " (2, 'Taylor'),\n",
       " (3, 'Lover'),\n",
       " (4, 'Taylor'),\n",
       " (5, 'Taylor')]"
      ]
     },
     "execution_count": 8,
     "metadata": {},
     "output_type": "execute_result"
    }
   ],
   "source": [
    "list(enumerate(words))"
   ]
  },
  {
   "cell_type": "code",
   "execution_count": 9,
   "metadata": {},
   "outputs": [],
   "source": [
    "#expression\n",
    "#statement\n",
    "#function"
   ]
  },
  {
   "cell_type": "code",
   "execution_count": 15,
   "metadata": {},
   "outputs": [
    {
     "data": {
      "text/plain": [
       "<generator object square at 0x11081e318>"
      ]
     },
     "execution_count": 15,
     "metadata": {},
     "output_type": "execute_result"
    }
   ],
   "source": [
    "#yield\n",
    "def square(n):\n",
    "    for i in range (n):\n",
    "        yield i**2\n",
    "square(7)\n"
   ]
  },
  {
   "cell_type": "code",
   "execution_count": 12,
   "metadata": {},
   "outputs": [
    {
     "name": "stdout",
     "output_type": "stream",
     "text": [
      "<generator object square at 0x11081e318>\n"
     ]
    }
   ],
   "source": [
    "print(square(8))"
   ]
  },
  {
   "cell_type": "code",
   "execution_count": 16,
   "metadata": {},
   "outputs": [
    {
     "name": "stdout",
     "output_type": "stream",
     "text": [
      "0\n",
      "1\n",
      "4\n",
      "9\n",
      "16\n",
      "25\n",
      "36\n",
      "49\n"
     ]
    }
   ],
   "source": [
    "for i in square(8):\n",
    "    print(i)"
   ]
  },
  {
   "cell_type": "code",
   "execution_count": 23,
   "metadata": {},
   "outputs": [
    {
     "name": "stdout",
     "output_type": "stream",
     "text": [
      "3 is prime\n",
      "4 = 2 * 2.0\n",
      "5 is prime\n",
      "5 is prime\n",
      "5 is prime\n",
      "6 = 2 * 3.0\n",
      "7 is prime\n",
      "7 is prime\n",
      "7 is prime\n",
      "7 is prime\n",
      "7 is prime\n",
      "8 = 2 * 4.0\n",
      "9 is prime\n",
      "9 = 3 * 3.0\n",
      "10 = 2 * 5.0\n",
      "11 is prime\n",
      "11 is prime\n",
      "11 is prime\n",
      "11 is prime\n",
      "11 is prime\n",
      "11 is prime\n",
      "11 is prime\n",
      "11 is prime\n",
      "11 is prime\n",
      "12 = 2 * 6.0\n",
      "13 is prime\n",
      "13 is prime\n",
      "13 is prime\n",
      "13 is prime\n",
      "13 is prime\n",
      "13 is prime\n",
      "13 is prime\n",
      "13 is prime\n",
      "13 is prime\n",
      "13 is prime\n",
      "13 is prime\n",
      "14 = 2 * 7.0\n",
      "15 is prime\n",
      "15 = 3 * 5.0\n"
     ]
    }
   ],
   "source": [
    "#range并不产生list，object returns successive items when iterate over, 节省空间\n",
    "#if prime\n",
    "for i in range(2,16):\n",
    "    for x in range(2,i):\n",
    "        if i%x == 0:\n",
    "            print(i, '=', x, '*', i/x)\n",
    "            break\n",
    "        #跳出最近的for循环\n",
    "        else:\n",
    "            print(i, 'is prime')\n",
    "            \n"
   ]
  },
  {
   "cell_type": "code",
   "execution_count": 24,
   "metadata": {},
   "outputs": [
    {
     "name": "stdout",
     "output_type": "stream",
     "text": [
      "3 is prime\n",
      "4 = 2 * 2.0\n",
      "5 is prime\n",
      "6 = 2 * 3.0\n",
      "7 is prime\n",
      "8 = 2 * 4.0\n",
      "9 is prime\n",
      "10 = 2 * 5.0\n",
      "11 is prime\n",
      "12 = 2 * 6.0\n",
      "13 is prime\n",
      "14 = 2 * 7.0\n",
      "15 is prime\n"
     ]
    }
   ],
   "source": [
    "for i in range(2,16):\n",
    "    for x in range(2,i):\n",
    "        if i%x == 0:\n",
    "            print(i, '=', x, '*', i/x)\n",
    "            break\n",
    "        else:\n",
    "            print(i, 'is prime')\n",
    "            break\n",
    "            #print一次就break"
   ]
  },
  {
   "cell_type": "code",
   "execution_count": 22,
   "metadata": {},
   "outputs": [
    {
     "name": "stdout",
     "output_type": "stream",
     "text": [
      "2 is prime\n",
      "3 is prime\n",
      "4 = 2 * 2.0\n",
      "5 is prime\n",
      "6 = 2 * 3.0\n",
      "7 is prime\n",
      "8 = 2 * 4.0\n",
      "9 = 3 * 3.0\n"
     ]
    }
   ],
   "source": [
    "for i in range(2,10):\n",
    "    for x in range(2,i):\n",
    "        if i%x == 0:\n",
    "            print(i, '=', x, '*', i/x)\n",
    "            break\n",
    "    #此处else在大for下，比if高一个缩进\n",
    "    #没有执行break的情况下调else，在循环正常完成时执行\n",
    "    else:\n",
    "        print(i, 'is prime')\n",
    "            "
   ]
  },
  {
   "cell_type": "code",
   "execution_count": 21,
   "metadata": {},
   "outputs": [
    {
     "name": "stdout",
     "output_type": "stream",
     "text": [
      "3 is prime\n",
      "4 = 2 * 2.0\n",
      "4 is prime\n",
      "5 is prime\n",
      "5 is prime\n",
      "5 is prime\n",
      "6 = 2 * 3.0\n",
      "6 = 3 * 2.0\n",
      "6 is prime\n",
      "6 is prime\n",
      "7 is prime\n",
      "7 is prime\n",
      "7 is prime\n",
      "7 is prime\n",
      "7 is prime\n",
      "8 = 2 * 4.0\n",
      "8 is prime\n",
      "8 = 4 * 2.0\n",
      "8 is prime\n",
      "8 is prime\n",
      "8 is prime\n",
      "9 is prime\n",
      "9 = 3 * 3.0\n",
      "9 is prime\n",
      "9 is prime\n",
      "9 is prime\n",
      "9 is prime\n",
      "9 is prime\n"
     ]
    }
   ],
   "source": [
    "for i in range(2,10):\n",
    "    for x in range(2,i):\n",
    "        if i%x == 0:\n",
    "            print(i, '=', x, '*', i/x)\n",
    "            \n",
    "        else:\n",
    "            print(i, 'is prime')\n",
    "            "
   ]
  },
  {
   "cell_type": "code",
   "execution_count": 25,
   "metadata": {},
   "outputs": [
    {
     "name": "stdout",
     "output_type": "stream",
     "text": [
      "2 is even\n",
      "3 is odd\n",
      "4 is even\n",
      "5 is odd\n",
      "6 is even\n",
      "7 is odd\n",
      "8 is even\n",
      "9 is odd\n"
     ]
    }
   ],
   "source": [
    "#continue\n",
    "for i in range(2,10):\n",
    "    if i%2 == 0:\n",
    "        print(i, 'is even')\n",
    "        continue\n",
    "    #没有执行continue时，照常走for循环剩下\n",
    "    #执行continue则进入下一循环\n",
    "    print(i, 'is odd')"
   ]
  },
  {
   "cell_type": "code",
   "execution_count": null,
   "metadata": {},
   "outputs": [],
   "source": []
  }
 ],
 "metadata": {
  "kernelspec": {
   "display_name": "Python 3",
   "language": "python",
   "name": "python3"
  },
  "language_info": {
   "codemirror_mode": {
    "name": "ipython",
    "version": 3
   },
   "file_extension": ".py",
   "mimetype": "text/x-python",
   "name": "python",
   "nbconvert_exporter": "python",
   "pygments_lexer": "ipython3",
   "version": "3.7.0"
  }
 },
 "nbformat": 4,
 "nbformat_minor": 2
}
